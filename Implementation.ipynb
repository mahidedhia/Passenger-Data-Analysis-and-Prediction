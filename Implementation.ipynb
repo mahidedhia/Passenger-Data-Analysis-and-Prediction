{
 "cells": [
  {
   "cell_type": "code",
   "execution_count": 64,
   "metadata": {},
   "outputs": [
    {
     "name": "stdout",
     "output_type": "stream",
     "text": [
      "<class 'str'>\n",
      "<class 'str'>\n",
      "<class 'str'>\n",
      "<class 'numpy.int64'>\n"
     ]
    }
   ],
   "source": [
    "import pandas as pd\n",
    "dataset_df=pd.read_csv('cta-ridership-bus-routes-daily-totals-by-route-1.csv')\n",
    "print(type(dataset_df['route'][0]))\n",
    "print(type(dataset_df['date'][0]))\n",
    "print(type(dataset_df['daytype'][0]))\n",
    "print(type(dataset_df['rides'][0]))"
   ]
  },
  {
   "cell_type": "code",
   "execution_count": 65,
   "metadata": {},
   "outputs": [
    {
     "name": "stdout",
     "output_type": "stream",
     "text": [
      "792975\n",
      "424\n"
     ]
    }
   ],
   "source": [
    "no_of_records = len(dataset_df)\n",
    "print(no_of_records)\n",
    "print(dataset_df['rides'][no_of_records-1])"
   ]
  },
  {
   "cell_type": "code",
   "execution_count": 66,
   "metadata": {},
   "outputs": [
    {
     "name": "stdout",
     "output_type": "stream",
     "text": [
      "Empty DataFrame\n",
      "Columns: [route, date, daytype, rides]\n",
      "Index: []\n",
      "Empty DataFrame\n",
      "Columns: [route, date, daytype, rides]\n",
      "Index: []\n",
      "Empty DataFrame\n",
      "Columns: [route, date, daytype, rides]\n",
      "Index: []\n",
      "Empty DataFrame\n",
      "Columns: [route, date, daytype, rides]\n",
      "Index: []\n"
     ]
    }
   ],
   "source": [
    "#checking for null values in the dataset\n",
    "nullroute = pd.isnull(dataset_df[\"route\"])\n",
    "print(dataset_df[nullroute])\n",
    "nulldate = pd.isnull(dataset_df[\"date\"])\n",
    "print(dataset_df[nulldate])\n",
    "nulldaytype = pd.isnull(dataset_df[\"daytype\"])\n",
    "print(dataset_df[nullvalues])\n",
    "nullrides = pd.isnull(dataset_df[\"rides\"])\n",
    "print(dataset_df[nullrides])\n",
    "\n",
    "#print(dataset_df[dataset_df['date']=='01/01/2013'].index.values)"
   ]
  },
  {
   "cell_type": "code",
   "execution_count": 67,
   "metadata": {},
   "outputs": [
    {
     "name": "stdout",
     "output_type": "stream",
     "text": [
      "Data of route 3 for year 2018 available for 273 days\n"
     ]
    }
   ],
   "source": [
    "count = 0\n",
    "for i in dataset_df.index:\n",
    "    if dataset_df['date'][i].endswith('2018') and dataset_df['route'][i] == '3':\n",
    "          count = count + 1\n",
    "print(\"Data of route 3 for year 2018 available for \"+str(count)+ \" days\")"
   ]
  },
  {
   "cell_type": "code",
   "execution_count": 68,
   "metadata": {},
   "outputs": [
    {
     "name": "stdout",
     "output_type": "stream",
     "text": [
      "RangeIndex(start=0, stop=792975, step=1)\n",
      "\n",
      "Data of route 3 for year 2013 is available for 365 days\n",
      "Data of route 3 for year 2014 is available for 365 days\n",
      "Data of route 3 for year 2015 is available for 365 days\n",
      "Data of route 3 for year 2016 is available for 366 days\n",
      "Data of route 3 for year 2017 is available for 365 days\n",
      "\n",
      "\n",
      "Data of route 4 for year 2013 is available for 365 days\n",
      "Data of route 4 for year 2014 is available for 365 days\n",
      "Data of route 4 for year 2015 is available for 365 days\n",
      "Data of route 4 for year 2016 is available for 366 days\n",
      "Data of route 4 for year 2017 is available for 365 days\n"
     ]
    }
   ],
   "source": [
    "import pandas as pd\n",
    "dataset_df=pd.read_csv('cta-ridership-bus-routes-daily-totals-by-route-1.csv')\n",
    "print(dataset_df.index, end=\"\\n\\n\")\n",
    "\n",
    "def countdays(year, route):\n",
    "    count = 0\n",
    "    for i in dataset_df.index:\n",
    "        if dataset_df['date'][i].endswith(year) and dataset_df['route'][i] == route:\n",
    "              count = count + 1\n",
    "    print(\"Data of route \" + route + \" for year \" + year + \" is available for \"+ str(count) + \" days\")\n",
    "    \n",
    "#counting no of records for route 3    \n",
    "countdays('2013','3')\n",
    "countdays('2014','3')\n",
    "countdays('2015','3')\n",
    "countdays('2016','3')\n",
    "countdays('2017','3')\n",
    "print(\"\\n\")\n",
    "\n",
    "#counting no of records for route 4\n",
    "countdays('2013','4')\n",
    "countdays('2014','4')\n",
    "countdays('2015','4')\n",
    "countdays('2016','4')\n",
    "countdays('2017','4')"
   ]
  },
  {
   "cell_type": "code",
   "execution_count": 69,
   "metadata": {},
   "outputs": [],
   "source": [
    "#creating new file with only the data for route 3,4 through the years 2013-2017\n",
    "\n",
    "import csv\n",
    "fields = ['route','date','daytype','rides'] \n",
    "\n",
    "data = [] #Buffer list \n",
    "with open('cta-ridership-bus-routes-daily-totals-by-route-1.csv', \"r\") as input_file:\n",
    "    reader = csv.reader(input_file)\n",
    "    for row in reader:\n",
    "        if (row[0] == \"3\" or row[0]==\"4\") and (row[1].endswith('2013') or row[1].endswith('2014') or row[1].endswith('2015') or row[1].endswith('2016') or row[1].endswith('2017')):  \n",
    "            data.append(row)\n",
    "\n",
    "with open(\"bus_data_chicago.csv\", \"w\") as to_file:\n",
    "    writer = csv.writer(to_file, lineterminator='\\n')\n",
    "    writer.writerow(fields) \n",
    "    for new_row in data:\n",
    "        writer.writerow(new_row)"
   ]
  },
  {
   "cell_type": "code",
   "execution_count": 70,
   "metadata": {},
   "outputs": [
    {
     "name": "stdout",
     "output_type": "stream",
     "text": [
      "RangeIndex(start=0, stop=3652, step=1)\n",
      "\n",
      "Data of route 3 for year 2013 is available for 365 days\n",
      "Data of route 3 for year 2014 is available for 365 days\n",
      "Data of route 3 for year 2015 is available for 365 days\n",
      "Data of route 3 for year 2016 is available for 366 days\n",
      "Data of route 3 for year 2017 is available for 365 days\n",
      "\n",
      "\n",
      "Data of route 4 for year 2013 is available for 365 days\n",
      "Data of route 4 for year 2014 is available for 365 days\n",
      "Data of route 4 for year 2015 is available for 365 days\n",
      "Data of route 4 for year 2016 is available for 366 days\n",
      "Data of route 4 for year 2017 is available for 365 days\n"
     ]
    }
   ],
   "source": [
    "import pandas as pd\n",
    "dataset_df=pd.read_csv('bus_data_chicago.csv')\n",
    "print(dataset_df.index, end=\"\\n\\n\")\n",
    "\n",
    "def countdays(year, route):\n",
    "    count = 0\n",
    "    for i in dataset_df.index:\n",
    "        if dataset_df['date'][i].endswith(year) and dataset_df['route'][i] == route:\n",
    "              count = count + 1\n",
    "    print(\"Data of route \" + str(route) + \" for year \" + year + \" is available for \"+ str(count) + \" days\")\n",
    "    \n",
    "#counting no of records for route 3    \n",
    "countdays('2013',3)\n",
    "countdays('2014',3)\n",
    "countdays('2015',3)\n",
    "countdays('2016',3)\n",
    "countdays('2017',3)\n",
    "print(\"\\n\")\n",
    "\n",
    "#counting no of records for route 4\n",
    "countdays('2013',4)\n",
    "countdays('2014',4)\n",
    "countdays('2015',4)\n",
    "countdays('2016',4)\n",
    "countdays('2017',4)"
   ]
  },
  {
   "cell_type": "code",
   "execution_count": 71,
   "metadata": {},
   "outputs": [],
   "source": [
    "#creating new column 'day'\n",
    "import pandas as pd\n",
    "dataset_df=pd.read_csv('bus_data_chicago.csv')\n",
    "dataset_df[\"day\"] = \"\"\n",
    "dataset_df.to_csv(\"bus_data_chicago.csv\", index=False)"
   ]
  },
  {
   "cell_type": "code",
   "execution_count": 73,
   "metadata": {},
   "outputs": [
    {
     "name": "stderr",
     "output_type": "stream",
     "text": [
      "<ipython-input-73-06b26d421552>:12: SettingWithCopyWarning: \n",
      "A value is trying to be set on a copy of a slice from a DataFrame\n",
      "\n",
      "See the caveats in the documentation: https://pandas.pydata.org/pandas-docs/stable/user_guide/indexing.html#returning-a-view-versus-a-copy\n",
      "  df['day'][i] = days[j]\n",
      "<ipython-input-73-06b26d421552>:23: SettingWithCopyWarning: \n",
      "A value is trying to be set on a copy of a slice from a DataFrame\n",
      "\n",
      "See the caveats in the documentation: https://pandas.pydata.org/pandas-docs/stable/user_guide/indexing.html#returning-a-view-versus-a-copy\n",
      "  df['day'][i] = days[j]\n"
     ]
    }
   ],
   "source": [
    "#Assigning days to all the dates from 2013-2017\n",
    "df = pd.read_csv(\"bus_data_chicago.csv\")\n",
    "days = [\"Tuesday\", \"Wednesday\", \"Thursday\", \"Friday\", \"Saturday\", \"Sunday\", \"Monday\"]\n",
    "j = 0 \n",
    "k = 0\n",
    "\n",
    "for i in df.index:\n",
    "    if df['route'][i] == 3:\n",
    "        df['day'][i] = days[j]\n",
    "        k = k+1    \n",
    "        if k%7 == 0:\n",
    "             j = 0\n",
    "        else:\n",
    "            j = j+1\n",
    "\n",
    "j = 0 \n",
    "k = 0\n",
    "for i in df.index:\n",
    "    if df['route'][i] == 4:\n",
    "        df['day'][i] = days[j]\n",
    "        k = k+1    \n",
    "        if k%7 == 0:\n",
    "             j = 0\n",
    "        else:\n",
    "            j = j+1\n",
    "            \n",
    "df.to_csv(\"bus_data_chicago.csv\", index=False)"
   ]
  },
  {
   "cell_type": "code",
   "execution_count": 74,
   "metadata": {},
   "outputs": [
    {
     "name": "stdout",
     "output_type": "stream",
     "text": [
      "Empty DataFrame\n",
      "Columns: [route, date, daytype, rides, day]\n",
      "Index: []\n"
     ]
    }
   ],
   "source": [
    "nullday = pd.isnull(df[\"day\"])\n",
    "print(df[nullday])"
   ]
  },
  {
   "cell_type": "code",
   "execution_count": 75,
   "metadata": {},
   "outputs": [],
   "source": [
    "#creating new column 'WD_WE_LW'\n",
    "import pandas as pd\n",
    "dataset_df=pd.read_csv('bus_data_chicago.csv')\n",
    "dataset_df[\"WD_WE_LW\"] = \"\"\n",
    "dataset_df.to_csv(\"bus_data_chicago.csv\", index=False)"
   ]
  },
  {
   "cell_type": "code",
   "execution_count": 77,
   "metadata": {},
   "outputs": [
    {
     "name": "stderr",
     "output_type": "stream",
     "text": [
      "<ipython-input-77-c11f0ca4d02c>:5: SettingWithCopyWarning: \n",
      "A value is trying to be set on a copy of a slice from a DataFrame\n",
      "\n",
      "See the caveats in the documentation: https://pandas.pydata.org/pandas-docs/stable/user_guide/indexing.html#returning-a-view-versus-a-copy\n",
      "  df['WD_WE_LW'][i] = 'WD'\n",
      "C:\\Users\\mahid\\anaconda3\\lib\\site-packages\\pandas\\core\\indexing.py:671: SettingWithCopyWarning: \n",
      "A value is trying to be set on a copy of a slice from a DataFrame\n",
      "\n",
      "See the caveats in the documentation: https://pandas.pydata.org/pandas-docs/stable/user_guide/indexing.html#returning-a-view-versus-a-copy\n",
      "  self._setitem_with_indexer(indexer, value)\n",
      "<ipython-input-77-c11f0ca4d02c>:7: SettingWithCopyWarning: \n",
      "A value is trying to be set on a copy of a slice from a DataFrame\n",
      "\n",
      "See the caveats in the documentation: https://pandas.pydata.org/pandas-docs/stable/user_guide/indexing.html#returning-a-view-versus-a-copy\n",
      "  df['WD_WE_LW'][i] = 'WE'\n"
     ]
    }
   ],
   "source": [
    "#Assigning weekday/weekend\n",
    "df = pd.read_csv(\"bus_data_chicago.csv\")\n",
    "\n",
    "for i in df.index:\n",
    "    if df['day'][i]=='Monday' or df['day'][i]=='Tuesday' or df['day'][i]=='Wednesday' or df['day'][i]=='Thursday' or df['day'][i]=='Friday':\n",
    "        df['WD_WE_LW'][i] = 'WD'\n",
    "    else:\n",
    "        df['WD_WE_LW'][i] = 'WE'\n",
    "            \n",
    "df.to_csv(\"bus_data_chicago.csv\", index=False)"
   ]
  },
  {
   "cell_type": "code",
   "execution_count": 78,
   "metadata": {},
   "outputs": [
    {
     "name": "stdout",
     "output_type": "stream",
     "text": [
      "Empty DataFrame\n",
      "Columns: [route, date, daytype, rides, day, WD_WE_LW]\n",
      "Index: []\n"
     ]
    }
   ],
   "source": [
    "nulltype = pd.isnull(df[\"WD_WE_LW\"])\n",
    "print(df[nulltype])"
   ]
  },
  {
   "cell_type": "code",
   "execution_count": 40,
   "metadata": {},
   "outputs": [
    {
     "name": "stdout",
     "output_type": "stream",
     "text": [
      "[3650 3651]\n",
      "\n"
     ]
    }
   ],
   "source": [
    "#checking if rows of same date are together or not (for markholidays algo)\n",
    "for i in df.index[::2]:\n",
    "    if df['date'][i] != df['date'][i+1]:\n",
    "        print(df.iloc[[i]])\n",
    "\n",
    "#obtaining index of last row\n",
    "print(df.loc[(df['date'] == \"12/31/2017\")].index.values, end=\"\\n\\n\")"
   ]
  },
  {
   "cell_type": "code",
   "execution_count": 44,
   "metadata": {},
   "outputs": [
    {
     "name": "stdout",
     "output_type": "stream",
     "text": [
      "CSV file updated\n"
     ]
    },
    {
     "name": "stderr",
     "output_type": "stream",
     "text": [
      "<ipython-input-44-40aa881c86e0>:12: SettingWithCopyWarning: \n",
      "A value is trying to be set on a copy of a slice from a DataFrame\n",
      "\n",
      "See the caveats in the documentation: https://pandas.pydata.org/pandas-docs/stable/user_guide/indexing.html#returning-a-view-versus-a-copy\n",
      "  df['WD_WE_LW'][index1] = 'LW'\n",
      "<ipython-input-44-40aa881c86e0>:13: SettingWithCopyWarning: \n",
      "A value is trying to be set on a copy of a slice from a DataFrame\n",
      "\n",
      "See the caveats in the documentation: https://pandas.pydata.org/pandas-docs/stable/user_guide/indexing.html#returning-a-view-versus-a-copy\n",
      "  df['WD_WE_LW'][index2] = 'LW'\n",
      "<ipython-input-44-40aa881c86e0>:18: SettingWithCopyWarning: \n",
      "A value is trying to be set on a copy of a slice from a DataFrame\n",
      "\n",
      "See the caveats in the documentation: https://pandas.pydata.org/pandas-docs/stable/user_guide/indexing.html#returning-a-view-versus-a-copy\n",
      "  df['WD_WE_LW'][k] = 'LW'\n"
     ]
    }
   ],
   "source": [
    "#Obtaining LW (Long weekend)\n",
    "import pandas as pd\n",
    "df = pd.read_csv(\"bus_data_chicago.csv\")\n",
    "\n",
    "def markholidays(date):\n",
    "    df.loc[(df['date'] == date),'WD_WE_LW']='WE'\n",
    "    index1 = df.loc[(df['date'] == date)].index.values[0]\n",
    "    index2 = df.loc[(df['date'] == date)].index.values[1]\n",
    "    \n",
    "    if df['day'][index1]=='Monday':\n",
    "        k = index1\n",
    "        df['WD_WE_LW'][index1] = 'LW'\n",
    "        df['WD_WE_LW'][index2] = 'LW'\n",
    "        for j in range(0,4):\n",
    "            k = k-1\n",
    "            if k<0:\n",
    "                break\n",
    "            df['WD_WE_LW'][k] = 'LW'\n",
    "            \n",
    "    if df['day'][index1]=='Friday':\n",
    "        k = index2\n",
    "        df['WD_WE_LW'][index1] = 'LW'\n",
    "        df['WD_WE_LW'][index2] = 'LW'\n",
    "        for j in range(0,4):\n",
    "            k = k+1\n",
    "            if k>3651:\n",
    "                break\n",
    "            df['WD_WE_LW'][k] = 'LW'\n",
    "                        \n",
    "#2013                \n",
    "markholidays(\"01/01/2013\") #new year\n",
    "markholidays(\"01/21/2013\") #Martin Luther King Day\n",
    "markholidays(\"02/18/2013\") #President's Day\n",
    "markholidays(\"05/27/2013\") #Memorial Day\n",
    "markholidays(\"07/04/2013\") #Independence Day\n",
    "markholidays(\"09/02/2013\") #Labor Day\n",
    "markholidays(\"10/14/2013\") #Columbus Day\n",
    "markholidays(\"11/11/2013\") #Veterans Day\n",
    "markholidays(\"11/28/2013\") #Thanksgiving Day\n",
    "markholidays(\"12/25/2013\") #Christmas Day\n",
    "\n",
    "#2014              \n",
    "markholidays(\"01/01/2014\") #new year\n",
    "markholidays(\"01/20/2014\") #Martin Luther King Day\n",
    "markholidays(\"02/17/2014\") #President's Day\n",
    "markholidays(\"05/26/2014\") #Memorial Day\n",
    "markholidays(\"07/04/2014\") #Independence Day\n",
    "markholidays(\"09/01/2014\") #Labor Day\n",
    "markholidays(\"10/13/2014\") #Columbus Day\n",
    "markholidays(\"11/11/2014\") #Veterans Day\n",
    "markholidays(\"11/27/2014\") #Thanksgiving Day\n",
    "markholidays(\"12/25/2014\") #Christmas Day\n",
    "\n",
    "#2015              \n",
    "markholidays(\"01/01/2015\") #new year\n",
    "markholidays(\"01/19/2015\") #Martin Luther King Day\n",
    "markholidays(\"02/16/2015\") #President's Day\n",
    "markholidays(\"05/25/2015\") #Memorial Day\n",
    "markholidays(\"07/03/2015\") #Independence Day (falls on saturday)\n",
    "markholidays(\"09/07/2015\") #Labor Day\n",
    "markholidays(\"10/12/2015\") #Columbus Day\n",
    "markholidays(\"11/11/2015\") #Veterans Day\n",
    "markholidays(\"11/26/2015\") #Thanksgiving Day\n",
    "markholidays(\"12/25/2015\") #Christmas Day\n",
    "\n",
    "#2016              \n",
    "markholidays(\"01/01/2016\") #new year\n",
    "markholidays(\"01/18/2016\") #Martin Luther King Day\n",
    "markholidays(\"02/15/2016\") #President's Day\n",
    "markholidays(\"05/30/2016\") #Memorial Day\n",
    "markholidays(\"07/04/2016\") #Independence Day\n",
    "markholidays(\"09/05/2016\") #Labor Day\n",
    "markholidays(\"10/10/2016\") #Columbus Day\n",
    "markholidays(\"11/11/2016\") #Veterans Day\n",
    "markholidays(\"11/24/2016\") #Thanksgiving Day\n",
    "markholidays(\"12/26/2016\") #Christmas Day (falls on sunday)\n",
    "\n",
    "#2017           \n",
    "markholidays(\"01/02/2017\") #new year(falls on Sunday)\n",
    "markholidays(\"01/16/2017\") #Martin Luther King Day\n",
    "markholidays(\"02/20/2017\") #President's Day\n",
    "markholidays(\"05/29/2017\") #Memorial Day\n",
    "markholidays(\"07/04/2017\") #Independence Day\n",
    "markholidays(\"09/04/2017\") #Labor Day\n",
    "markholidays(\"10/09/2017\") #Columbus Day\n",
    "markholidays(\"11/10/2017\") #Veterans Day (falls on sat)\n",
    "markholidays(\"11/23/2017\") #Thanksgiving Day\n",
    "markholidays(\"12/25/2017\") #Christmas Day\n",
    "\n",
    "df.to_csv(\"bus_data_chicago.csv\", index=False)\n",
    "print(\"CSV file updated\")"
   ]
  },
  {
   "cell_type": "code",
   "execution_count": 72,
   "metadata": {},
   "outputs": [
    {
     "name": "stdout",
     "output_type": "stream",
     "text": [
      "106\n",
      "520\n",
      "Monday\n"
     ]
    }
   ],
   "source": [
    "\n",
    "seriesObj = df.apply(lambda x: True if x['day'] == \"Tuesday\" and x['date'].endswith(\"2013\") else False , axis=1)\n",
    "# Count number of True in series\n",
    "count = len(seriesObj[seriesObj == True].index)\n",
    "print(count)\n",
    "#print(df[\"date\"])\n",
    "\n",
    "\n",
    "df_temp = df.loc[(df['day'] == \"Monday\")]\n",
    "print(df_temp.shape[0])\n",
    "\n",
    "\n",
    "reg_var = []\n",
    "sum2013 = 0, count2013 = 0\n",
    "sum2014 = 0, count2014 = 0\n",
    "sum2015 = 0, count2015 = 0\n",
    "sum2016 = 0, count2016 = 0\n",
    "indices = []\n",
    "for i in df_temp.index:\n",
    "    if df_temp['date'][i].endswith(\"2013\"):\n",
    "        indices.append(i)\n",
    "        \n",
    "#print(df.loc[(df['date'] == \"02/01/2013\") & (df['day']==\"Friday\")])"
   ]
  },
  {
   "cell_type": "code",
   "execution_count": 15,
   "metadata": {},
   "outputs": [
    {
     "name": "stdout",
     "output_type": "stream",
     "text": [
      "          Day  Year    Avg  Total days  Weekdays  Weekends  Long_Weekends\n",
      "0      Monday  2013  21368         104        92         0             12\n",
      "1      Monday  2014  18883         104        94         0             10\n",
      "2      Monday  2015  19178         104        94         0             10\n",
      "3      Monday  2016  18072         104        90         0             14\n",
      "4     Tuesday  2013  21903         106       104         2              0\n",
      "5     Tuesday  2014  19924         104       102         2              0\n",
      "6     Tuesday  2015  20529         104       104         0              0\n",
      "7     Tuesday  2016  19254         104       104         0              0\n",
      "8   Wednesday  2013  22469         104       102         2              0\n",
      "9   Wednesday  2014  20040         106       104         2              0\n",
      "10  Wednesday  2015  20311         104       102         2              0\n",
      "11  Wednesday  2016  18933         104       104         0              0\n",
      "12   Thursday  2013  22186         104       100         4              0\n",
      "13   Thursday  2014  19954         104       100         4              0\n",
      "14   Thursday  2015  19585         106       102         4              0\n",
      "15   Thursday  2016  18791         104       102         2              0\n",
      "16     Friday  2013  22695         104       104         0              0\n",
      "17     Friday  2014  20395         104       102         0              2\n",
      "18     Friday  2015  20119         104       100         0              4\n",
      "19     Friday  2016  18796         106       102         0              4\n",
      "20   Saturday  2013  15135         104         0        92             12\n",
      "21   Saturday  2014  13708         104         0        92             12\n",
      "22   Saturday  2015  13834         104         0        90             14\n",
      "23   Saturday  2016  12847         106         0        86             20\n",
      "24     Sunday  2013  10333         104         0        92             12\n",
      "25     Sunday  2014   9781         104         0        92             12\n",
      "26     Sunday  2015   9917         104         0        90             14\n",
      "27     Sunday  2016   9262         104         0        86             18\n",
      "[['Monday', '2017', 17306, 104, 90, 0, 14], ['Tuesday', '2017', 18242, 104, 102, 2, 0], ['Wednesday', '2017', 18272, 104, 104, 0, 0], ['Thursday', '2017', 18035, 104, 102, 2, 0], ['Friday', '2017', 18358, 104, 102, 0, 2], ['Saturday', '2017', 12283, 104, 0, 90, 14], ['Sunday', '2017', 9079, 106, 0, 90, 16]]\n"
     ]
    }
   ],
   "source": [
    "#creating dataframe for regression \n",
    "import pandas as pd\n",
    "df = pd.read_csv(\"bus_data_chicago.csv\")\n",
    "\n",
    "\n",
    "def dataframe_reg_func( day , reg_list):    \n",
    "    df_temp = df.loc[(df['day'] == day)]\n",
    "\n",
    "    indices2013 = []\n",
    "    indices2014 = []\n",
    "    indices2015 = []\n",
    "    indices2016 = []\n",
    "    for i in df_temp.index:\n",
    "        if df_temp['date'][i].endswith(\"2013\"):\n",
    "            indices2013.append(i)\n",
    "        elif df_temp['date'][i].endswith(\"2014\"):\n",
    "            indices2014.append(i)\n",
    "        elif df_temp['date'][i].endswith(\"2015\"):\n",
    "            indices2015.append(i)\n",
    "        elif df_temp['date'][i].endswith(\"2016\"):\n",
    "            indices2016.append(i)\n",
    "\n",
    "    df2013 = df_temp.loc[indices2013]\n",
    "    #print(df2013.shape[0])\n",
    "    reg_list.append(dataframe_reg_inner(day, df2013, \"2013\"))\n",
    "    \n",
    "    df2014 = df_temp.loc[indices2014]\n",
    "    reg_list.append(dataframe_reg_inner(day, df2014, \"2014\"))\n",
    "    \n",
    "    df2015 = df_temp.loc[indices2015]\n",
    "    reg_list.append(dataframe_reg_inner(day, df2015, \"2015\"))\n",
    "    \n",
    "    df2016 = df_temp.loc[indices2016]\n",
    "    reg_list.append(dataframe_reg_inner(day, df2016, \"2016\"))\n",
    "    \n",
    "    return reg_list\n",
    "    \n",
    "    \n",
    "def dataframe_reg_inner(day, dfyear, year):\n",
    "    sum_total = 0\n",
    "    countWD = 0\n",
    "    countWE = 0\n",
    "    countLW = 0\n",
    "    for i in dfyear.index:\n",
    "        sum_total += dfyear['rides'][i]\n",
    "        if dfyear['WD_WE_LW'][i]=='WD':\n",
    "            countWD += 1\n",
    "        elif dfyear['WD_WE_LW'][i]=='WE':\n",
    "            countWE += 1\n",
    "        elif dfyear['WD_WE_LW'][i]=='LW':\n",
    "            countLW += 1\n",
    "\n",
    "    count_total = countWD + countWE + countLW\n",
    "    avg = int(sum_total/count_total)\n",
    "    reg_var = []\n",
    "    reg_var.append(day)\n",
    "    reg_var.append(year)\n",
    "    reg_var.append(avg)#Avg Passengers\n",
    "    reg_var.append(count_total) #Total no of days of Specified Day(in that year)\n",
    "    reg_var.append(countWD)#No of Weekdays\n",
    "    reg_var.append(countWE)#No of Weekends\n",
    "    reg_var.append(countLW)#No of Long Weekends\n",
    "    #print(reg_var)\n",
    "    return reg_var\n",
    "\n",
    "reg_list = []\n",
    "dataframe_reg_func(\"Monday\", reg_list)\n",
    "dataframe_reg_func(\"Tuesday\", reg_list)\n",
    "dataframe_reg_func(\"Wednesday\", reg_list)\n",
    "dataframe_reg_func(\"Thursday\", reg_list)\n",
    "dataframe_reg_func(\"Friday\", reg_list)\n",
    "dataframe_reg_func(\"Saturday\", reg_list)\n",
    "dataframe_reg_func(\"Sunday\", reg_list)\n",
    "\n",
    "dataframe_reg = pd.DataFrame(reg_list, columns =['Day','Year','Avg', 'Total days','Weekdays','Weekends','Long_Weekends'])\n",
    "print(dataframe_reg)"
   ]
  },
  {
   "cell_type": "code",
   "execution_count": 25,
   "metadata": {},
   "outputs": [
    {
     "name": "stdout",
     "output_type": "stream",
     "text": [
      "         Day  Year    Avg  Total days  Weekdays  Weekends  Long_Weekends\n",
      "0     Monday  2017  17306         104        90         0             14\n",
      "1    Tuesday  2017  18242         104       102         2              0\n",
      "2  Wednesday  2017  18272         104       104         0              0\n",
      "3   Thursday  2017  18035         104       102         2              0\n",
      "4     Friday  2017  18358         104       102         0              2\n",
      "5   Saturday  2017  12283         104         0        90             14\n",
      "6     Sunday  2017   9079         106         0        90             16\n",
      "\n",
      "         Day  Year    Avg Predicted\n",
      "0     Monday  2017  17306   18826.7\n",
      "1    Tuesday  2017  18242   20433.8\n",
      "2  Wednesday  2017  18272     20588\n",
      "3   Thursday  2017  18035   20433.8\n",
      "4     Friday  2017  18358   20336.4\n",
      "5   Saturday  2017  12283   11886.3\n",
      "6     Sunday  2017   9079   11734.5\n"
     ]
    },
    {
     "name": "stderr",
     "output_type": "stream",
     "text": [
      "<ipython-input-25-d0e3a1caeb97>:62: SettingWithCopyWarning: \n",
      "A value is trying to be set on a copy of a slice from a DataFrame\n",
      "\n",
      "See the caveats in the documentation: https://pandas.pydata.org/pandas-docs/stable/user_guide/indexing.html#returning-a-view-versus-a-copy\n",
      "  df_actual_2017[\"Predicted\"][i] = a[0][0]\n",
      "<ipython-input-25-d0e3a1caeb97>:62: SettingWithCopyWarning: \n",
      "A value is trying to be set on a copy of a slice from a DataFrame\n",
      "\n",
      "See the caveats in the documentation: https://pandas.pydata.org/pandas-docs/stable/user_guide/indexing.html#returning-a-view-versus-a-copy\n",
      "  df_actual_2017[\"Predicted\"][i] = a[0][0]\n",
      "<ipython-input-25-d0e3a1caeb97>:62: SettingWithCopyWarning: \n",
      "A value is trying to be set on a copy of a slice from a DataFrame\n",
      "\n",
      "See the caveats in the documentation: https://pandas.pydata.org/pandas-docs/stable/user_guide/indexing.html#returning-a-view-versus-a-copy\n",
      "  df_actual_2017[\"Predicted\"][i] = a[0][0]\n",
      "<ipython-input-25-d0e3a1caeb97>:62: SettingWithCopyWarning: \n",
      "A value is trying to be set on a copy of a slice from a DataFrame\n",
      "\n",
      "See the caveats in the documentation: https://pandas.pydata.org/pandas-docs/stable/user_guide/indexing.html#returning-a-view-versus-a-copy\n",
      "  df_actual_2017[\"Predicted\"][i] = a[0][0]\n",
      "<ipython-input-25-d0e3a1caeb97>:62: SettingWithCopyWarning: \n",
      "A value is trying to be set on a copy of a slice from a DataFrame\n",
      "\n",
      "See the caveats in the documentation: https://pandas.pydata.org/pandas-docs/stable/user_guide/indexing.html#returning-a-view-versus-a-copy\n",
      "  df_actual_2017[\"Predicted\"][i] = a[0][0]\n",
      "<ipython-input-25-d0e3a1caeb97>:62: SettingWithCopyWarning: \n",
      "A value is trying to be set on a copy of a slice from a DataFrame\n",
      "\n",
      "See the caveats in the documentation: https://pandas.pydata.org/pandas-docs/stable/user_guide/indexing.html#returning-a-view-versus-a-copy\n",
      "  df_actual_2017[\"Predicted\"][i] = a[0][0]\n",
      "<ipython-input-25-d0e3a1caeb97>:62: SettingWithCopyWarning: \n",
      "A value is trying to be set on a copy of a slice from a DataFrame\n",
      "\n",
      "See the caveats in the documentation: https://pandas.pydata.org/pandas-docs/stable/user_guide/indexing.html#returning-a-view-versus-a-copy\n",
      "  df_actual_2017[\"Predicted\"][i] = a[0][0]\n"
     ]
    }
   ],
   "source": [
    "#Getting actual values of 2017\n",
    "def actual2017(day, reg_list):\n",
    "    df_temp = df.loc[(df['day'] == day)]\n",
    "    indices2017 = []\n",
    "    for i in df_temp.index:\n",
    "        if df_temp['date'][i].endswith(\"2017\"):\n",
    "            indices2017.append(i)\n",
    "\n",
    "    df2017 = df_temp.loc[indices2017]\n",
    "    \n",
    "    sum_total = 0\n",
    "    countWD = 0\n",
    "    countWE = 0\n",
    "    countLW = 0\n",
    "    for i in df2017.index:\n",
    "        sum_total += df2017['rides'][i]\n",
    "        if df2017['WD_WE_LW'][i]=='WD':\n",
    "            countWD += 1\n",
    "        elif df2017['WD_WE_LW'][i]=='WE':\n",
    "            countWE += 1\n",
    "        elif df2017['WD_WE_LW'][i]=='LW':\n",
    "            countLW += 1\n",
    "\n",
    "    count_total = countWD + countWE + countLW\n",
    "    avg = int(sum_total/count_total)\n",
    "    reg_var = []\n",
    "    reg_var.append(day)\n",
    "    reg_var.append(\"2017\")\n",
    "    reg_var.append(avg)#Avg Passengers\n",
    "    reg_var.append(count_total) #Total no of days of Specified Day(in that year)\n",
    "    reg_var.append(countWD)#No of Weekdays\n",
    "    reg_var.append(countWE)#No of Weekends\n",
    "    reg_var.append(countLW)#No of Long Weekends\n",
    "    \n",
    "    reg_list.append(reg_var)\n",
    "    return reg_list\n",
    "    \n",
    "actual_2017 = []\n",
    "actual2017(\"Monday\", actual_2017)\n",
    "actual2017(\"Tuesday\", actual_2017)\n",
    "actual2017(\"Wednesday\", actual_2017)\n",
    "actual2017(\"Thursday\", actual_2017)\n",
    "actual2017(\"Friday\", actual_2017)\n",
    "actual2017(\"Saturday\", actual_2017)\n",
    "actual2017(\"Sunday\", actual_2017)\n",
    "\n",
    "df_actual_2017 = pd.DataFrame(actual_2017, columns =['Day','Year','Avg', 'Total days','Weekdays','Weekends','Long_Weekends'])\n",
    "print(df_actual_2017)\n",
    "\n",
    "\n",
    "\n",
    "\n",
    "#Applying multiple linear regression and \n",
    "#obtaining predicted no of passengers for diff days of week in the year 2017\n",
    "import pandas as pd\n",
    "indep=dataframe_reg[['Total days','Weekdays','Weekends','Long_Weekends']]\n",
    "dep=dataframe_reg[['Avg']] \n",
    "from sklearn import linear_model\n",
    "regr=linear_model.LinearRegression()\n",
    "regr.fit(indep, dep)\n",
    "\n",
    "df_actual_2017[\"Predicted\"] = \"\"\n",
    "for i in df_actual_2017.index:\n",
    "        a = regr.predict([[df_actual_2017['Total days'][i], df_actual_2017['Weekdays'][i], df_actual_2017['Weekends'][i], df_actual_2017['Long_Weekends'][i]]])\n",
    "        df_actual_2017[\"Predicted\"][i] = a[0][0]\n",
    "\n",
    "print()\n",
    "print(df_actual_2017[['Day', 'Year', 'Avg', 'Predicted']])\n",
    "\n",
    "\n",
    "#Hence, as seen from the values, the predictions and avg values show some consistency"
   ]
  },
  {
   "cell_type": "code",
   "execution_count": 26,
   "metadata": {},
   "outputs": [],
   "source": []
  }
 ],
 "metadata": {
  "kernelspec": {
   "display_name": "Python 3",
   "language": "python",
   "name": "python3"
  },
  "language_info": {
   "codemirror_mode": {
    "name": "ipython",
    "version": 3
   },
   "file_extension": ".py",
   "mimetype": "text/x-python",
   "name": "python",
   "nbconvert_exporter": "python",
   "pygments_lexer": "ipython3",
   "version": "3.8.3"
  }
 },
 "nbformat": 4,
 "nbformat_minor": 4
}
